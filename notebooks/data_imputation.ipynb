{
 "cells": [
  {
   "cell_type": "code",
   "execution_count": 1,
   "metadata": {},
   "outputs": [],
   "source": [
    "import pandas as pd"
   ]
  },
  {
   "cell_type": "code",
   "execution_count": 5,
   "metadata": {},
   "outputs": [],
   "source": [
    "def imputeData(study_id, cols):\n",
    "    df = pd.read_csv(f\"../Datasets/study_{study_id}/top_5_{study_id}.csv\", usecols=cols)\n",
    "    df['DATE'] = pd.to_datetime(df['DATE'])\n",
    "\n",
    "    df.set_index('DATE', inplace=True)\n",
    "\n",
    "    full_date_range = pd.date_range(start=df.index.min(), end=df.index.max())\n",
    "    df = df.reindex(full_date_range)\n",
    "\n",
    "    df.interpolate(method='time', inplace=True)\n",
    "\n",
    "\n",
    "    df.to_csv(f\"../Datasets/study_{study_id}/top_5_{study_id}_time.csv\")\n"
   ]
  },
  {
   "cell_type": "code",
   "execution_count": 6,
   "metadata": {},
   "outputs": [],
   "source": [
    "imputeData('213', ['DATE','7058', '8572', '39601', '8901', '7730'])\n",
    "imputeData('373', ['DATE','46670', '46982', '46504', '46571', '46888'])"
   ]
  }
 ],
 "metadata": {
  "kernelspec": {
   "display_name": "Python 3",
   "language": "python",
   "name": "python3"
  },
  "language_info": {
   "codemirror_mode": {
    "name": "ipython",
    "version": 3
   },
   "file_extension": ".py",
   "mimetype": "text/x-python",
   "name": "python",
   "nbconvert_exporter": "python",
   "pygments_lexer": "ipython3",
   "version": "3.11.4"
  }
 },
 "nbformat": 4,
 "nbformat_minor": 2
}
