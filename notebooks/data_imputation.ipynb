{
 "cells": [
  {
   "cell_type": "code",
   "execution_count": 2,
   "metadata": {},
   "outputs": [],
   "source": [
    "import pandas as pd\n",
    "import statistics\n",
    "import math"
   ]
  },
  {
   "cell_type": "code",
   "execution_count": 118,
   "metadata": {},
   "outputs": [],
   "source": [
    "def mean_impute(filename, destination):\n",
    "    df = pd.read_csv(filename)\n",
    "    df['DATE'] = pd.to_datetime(df['DATE'])\n",
    "    prev_date = df.DATE[0]\n",
    "    imputed_df = pd.DataFrame()\n",
    "    for obj in df.iterrows():\n",
    "        index, row_elem = obj[0], obj[1]\n",
    "        new_df = pd.DataFrame(row_elem.to_dict(), index=[0])\n",
    "        date = row_elem.DATE\n",
    "        if date != prev_date + pd.Timedelta(days=1) and index != 0:\n",
    "            days_diff = (date - prev_date).days\n",
    "            prev_day = imputed_df.iloc[-1]\n",
    "            avg1, avg2, avg3, avg4, avg5 = [math.floor(statistics.mean([prev_day[i], row_elem[i]])) for i in range(1, 6)]\n",
    "            missing_days_df = pd.DataFrame({\n",
    "                df.columns[0] : [prev_date + pd.Timedelta(days=i) for i in range(1, days_diff + 1)],\n",
    "                df.columns[1] : [avg1 for i in range(days_diff)],\n",
    "                df.columns[2] : [avg2 for i in range(days_diff)],\n",
    "                df.columns[3] : [avg3 for i in range(days_diff)],\n",
    "                df.columns[4] : [avg4 for i in range(days_diff)],\n",
    "                df.columns[5] : [avg5 for i in range(days_diff)],\n",
    "            })\n",
    "            imputed_df = pd.concat([imputed_df, missing_days_df])\n",
    "        else:\n",
    "            imputed_df = pd.concat([imputed_df, new_df])\n",
    "        prev_date = date\n",
    "    imputed_df.to_csv(destination, index=False)\n",
    "\n",
    "\n",
    "mean_impute(\"../Datasets/study_373/top_5_373.csv\", \"../Datasets/study_373/top_5_373_imputed.csv\")"
   ]
  },
  {
   "cell_type": "code",
   "execution_count": 38,
   "metadata": {},
   "outputs": [],
   "source": [
    "df = pd.read_csv('../Datasets/study_373/top_5_373.csv', usecols=['DATE', '46670', '46982', '46504', '46571', '46888'])\n",
    "# Convert DATE column to datetime\n",
    "df['DATE'] = pd.to_datetime(df['DATE'])\n",
    "\n",
    "df.set_index('DATE', inplace=True)\n",
    "\n",
    "full_date_range = pd.date_range(start=df.index.min(), end=df.index.max())\n",
    "df = df.reindex(full_date_range)\n",
    "\n",
    "df.interpolate(method='linear', inplace=True)\n",
    "\n",
    "\n",
    "df.to_csv('../Datasets/study_373/top_5_373_linear.csv')"
   ]
  },
  {
   "cell_type": "code",
   "execution_count": 6,
   "metadata": {},
   "outputs": [],
   "source": [
    "df = pd.read_csv('../Datasets/study_213/top_5_213_linear.csv', usecols=['DATE','7058', '8572', '39601', '8901', '7730'])\n",
    "# Convert DATE column to datetime\n",
    "df['DATE'] = pd.to_datetime(df['DATE'])\n",
    "\n",
    "df.set_index('DATE', inplace=True)\n",
    "\n",
    "full_date_range = pd.date_range(start=df.index.min(), end=df.index.max())\n",
    "df = df.reindex(full_date_range)\n",
    "\n",
    "df.interpolate(method='time', inplace=True)\n",
    "\n",
    "\n",
    "df.to_csv('../Datasets/study_213/top_5_213_time.csv')"
   ]
  }
 ],
 "metadata": {
  "kernelspec": {
   "display_name": "Python 3",
   "language": "python",
   "name": "python3"
  },
  "language_info": {
   "codemirror_mode": {
    "name": "ipython",
    "version": 3
   },
   "file_extension": ".py",
   "mimetype": "text/x-python",
   "name": "python",
   "nbconvert_exporter": "python",
   "pygments_lexer": "ipython3",
   "version": "3.11.4"
  }
 },
 "nbformat": 4,
 "nbformat_minor": 2
}
