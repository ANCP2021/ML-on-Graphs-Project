{
 "cells": [
  {
   "cell_type": "code",
   "execution_count": null,
   "metadata": {},
   "outputs": [],
   "source": [
    "import torch\n",
    "from torch_geometric.data import Data\n",
    "from torch_geometric.nn import GCNConv\n"
   ]
  },
  {
   "cell_type": "code",
   "execution_count": null,
   "metadata": {},
   "outputs": [],
   "source": [
    "# 2 nodes (hares, lynx), with historical population sizes as features\n",
    "node_features = torch.tensor([[19.58, 19.60, 19.61, 11.99, 28.04, 58.00, 74.60],  # Hares\n",
    "                              [30.09, 45.15, 49.15, 39.52, 21.23, 8.42, 5.56]],  # Lynx\n",
    "                             dtype=torch.float)\n",
    "\n",
    "# From Hares to Lynx (0 -> 1)\n",
    "edge_index = torch.tensor([[0], [1]], dtype=torch.long)\n",
    "\n",
    "# Constructing the graph\n",
    "data = Data(x=node_features, edge_index=edge_index)\n",
    "\n",
    "# Defining simple GNN model\n",
    "class PredationModel(torch.nn.Module):\n",
    "    def __init__(self):\n",
    "        super(PredationModel, self).__init__()\n",
    "        self.conv1 = GCNConv(data.num_node_features, 16)\n",
    "        self.conv2 = GCNConv(16, data.num_classes)\n",
    "\n",
    "    def forward(self, data):\n",
    "        x, edge_index = data.x, data.edge_index\n",
    "        x = self.conv1(x, edge_index)\n",
    "        x = torch.relu(x)\n",
    "        x = self.conv2(x, edge_index)\n",
    "        return x\n"
   ]
  },
  {
   "cell_type": "code",
   "execution_count": null,
   "metadata": {},
   "outputs": [],
   "source": [
    "\n",
    "# node features include Animal X\n",
    "node_features = torch.tensor([[...],  # Hares\n",
    "                              [...],  # Lynx\n",
    "                              [...]],  # Animal X\n",
    "                             dtype=torch.float)\n",
    "\n",
    "# edge information to reflect new predation\n",
    "# Example: Hares -> Lynx, \n",
    "# Hares -> Animal X, \n",
    "# Animal X -> Lynx\n",
    "edge_index = torch.tensor([[0, 0, 2],  # Source nodes (Hares, Hares, Animal X)\n",
    "                           [1, 2, 1]],  # Target nodes (Lynx, Animal X, Lynx)\n",
    "                          dtype=torch.long)\n"
   ]
  }
 ],
 "metadata": {
  "language_info": {
   "name": "python"
  }
 },
 "nbformat": 4,
 "nbformat_minor": 2
}
