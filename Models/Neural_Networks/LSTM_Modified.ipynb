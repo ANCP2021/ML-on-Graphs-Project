{
 "cells": [
  {
   "cell_type": "code",
   "execution_count": 2,
   "metadata": {},
   "outputs": [],
   "source": [
    "import numpy as np\n",
    "import matplotlib.pyplot as plt\n",
    "import pandas as pd\n",
    "import tensorflow as tf\n",
    "from tensorflow.keras.models import Sequential\n",
    "from tensorflow.keras.layers import LSTM, Dense\n",
    "from sklearn.preprocessing import MinMaxScaler\n",
    "from sklearn.model_selection import train_test_split\n"
   ]
  },
  {
   "cell_type": "code",
   "execution_count": null,
   "metadata": {},
   "outputs": [],
   "source": [
    "df = pd.read_csv('../../Datasets/Lynx_Hare/data.csv', usecols=['DATE', 'HARE', 'LYNX'])\n",
    "print(df)"
   ]
  },
  {
   "cell_type": "code",
   "execution_count": null,
   "metadata": {},
   "outputs": [],
   "source": [
    "for col in ['HARE', 'LYNX']:\n",
    "    df[f'{col}_lag1'] = df[col].shift(1)\n",
    "\n",
    "df['Lynx_on_Hare'] = df['LYNX_lag1'] * df['HARE']\n",
    "df.dropna(inplace=True)\n",
    "print(df)"
   ]
  },
  {
   "cell_type": "code",
   "execution_count": null,
   "metadata": {},
   "outputs": [],
   "source": [
    "scaler = MinMaxScaler(feature_range=(0, 1))\n",
    "scaled_data = scaler.fit_transform(df[['HARE', 'LYNX', 'HARE_lag1', 'LYNX_lag1', 'Lynx_on_Hare']])\n",
    "print(scaled_data)"
   ]
  },
  {
   "cell_type": "code",
   "execution_count": null,
   "metadata": {},
   "outputs": [],
   "source": [
    "xs, ys = [], []\n",
    "seq_length=3\n",
    "for i in range(len(scaled_data)-seq_length):\n",
    "    x = scaled_data[i:(i + seq_length)]\n",
    "    xs.append(x)\n",
    "\n",
    "    y = scaled_data[i + seq_length][:2]\n",
    "    ys.append(y)\n",
    "\n",
    "X, y = np.array(xs), np.array(ys)\n",
    "print(X.shape)\n",
    "print(y.shape)"
   ]
  },
  {
   "cell_type": "code",
   "execution_count": null,
   "metadata": {},
   "outputs": [],
   "source": [
    "X_train, X_test, y_train, y_test = train_test_split(X, y, test_size=0.2, random_state=42)"
   ]
  },
  {
   "cell_type": "code",
   "execution_count": null,
   "metadata": {},
   "outputs": [],
   "source": [
    "model = Sequential([\n",
    "    LSTM(50, activation='relu', input_shape=(seq_length, 5)),\n",
    "    Dense(2)\n",
    "])\n",
    "\n",
    "model.compile(optimizer='adam', loss='mean_squared_error')"
   ]
  },
  {
   "cell_type": "code",
   "execution_count": null,
   "metadata": {},
   "outputs": [],
   "source": [
    "epochs = 200\n",
    "train_losses = []\n",
    "test_losses = []\n",
    "\n",
    "for epoch in range(epochs):\n",
    "    history = model.fit(X_train, y_train, validation_data=(X_test, y_test), epochs=1, batch_size=32, verbose=0)\n",
    "    \n",
    "    # Access losses directly from history object\n",
    "    train_mse = history.history['loss'][-1]\n",
    "    test_mse = history.history['val_loss'][-1]\n",
    "    \n",
    "    train_losses.append(train_mse)\n",
    "    test_losses.append(test_mse)\n",
    "    \n",
    "    print(f'Epoch {epoch+1}/{epochs}, Training MSE: {train_mse:.4f}, Test MSE: {test_mse:.4f}')\n",
    "\n",
    "# Plotting training and testing loss over epochs\n",
    "plt.figure(figsize=(10, 5))\n",
    "plt.plot(range(1, epochs+1), train_losses, label='Training Loss')\n",
    "plt.plot(range(1, epochs+1), test_losses, label='Test Loss')\n",
    "plt.xlabel('Epoch')\n",
    "plt.ylabel('MSE')\n",
    "plt.title('Training and Test Loss Over Epochs')\n",
    "plt.legend()\n",
    "plt.show()\n",
    "\n",
    "# Final evaluation\n",
    "final_mse_test = test_losses[-1]\n",
    "print(f'Final Test MSE: {final_mse_test}')"
   ]
  },
  {
   "cell_type": "code",
   "execution_count": 3,
   "metadata": {},
   "outputs": [
    {
     "name": "stdout",
     "output_type": "stream",
     "text": [
      "           DATE  46670  46982  46504  46571  46888\n",
      "0    2008-06-08    1.0    2.0    1.0    1.0    2.0\n",
      "1    2008-07-11    1.0    3.0    1.0    1.0    2.0\n",
      "2    2008-09-14    2.0    6.0    2.0    1.0    1.0\n",
      "3    2008-09-16    2.0    1.0    1.0    1.0    3.0\n",
      "4    2008-09-22    2.0    4.0    1.0    1.0    2.0\n",
      "..          ...    ...    ...    ...    ...    ...\n",
      "388  2012-10-18   10.0    6.0    1.0    1.0    2.0\n",
      "389  2012-10-22    8.0    6.0    1.0    1.0    3.0\n",
      "390  2012-10-28    3.0    1.0    1.0    1.0    2.0\n",
      "391  2012-11-08    2.0    7.0    1.0    1.0    2.0\n",
      "392  2012-11-09    2.0    1.0    1.0    1.0    1.0\n",
      "\n",
      "[393 rows x 6 columns]\n"
     ]
    }
   ],
   "source": [
    "df = pd.read_csv('../../Datasets/study_373/top_5_373.csv', usecols=['DATE', '46670', '46982', '46504', '46571', '46888'])\n",
    "print(df)"
   ]
  },
  {
   "cell_type": "code",
   "execution_count": 4,
   "metadata": {},
   "outputs": [
    {
     "name": "stdout",
     "output_type": "stream",
     "text": [
      "           DATE  46670  46982  46504  46571  46888  46670_lag1  46982_lag1  \\\n",
      "1    2008-07-11    1.0    3.0    1.0    1.0    2.0         1.0         2.0   \n",
      "2    2008-09-14    2.0    6.0    2.0    1.0    1.0         1.0         3.0   \n",
      "3    2008-09-16    2.0    1.0    1.0    1.0    3.0         2.0         6.0   \n",
      "4    2008-09-22    2.0    4.0    1.0    1.0    2.0         2.0         1.0   \n",
      "5    2008-09-25    2.0    4.0    1.0    1.0    3.0         2.0         4.0   \n",
      "..          ...    ...    ...    ...    ...    ...         ...         ...   \n",
      "388  2012-10-18   10.0    6.0    1.0    1.0    2.0        12.0         9.0   \n",
      "389  2012-10-22    8.0    6.0    1.0    1.0    3.0        10.0         6.0   \n",
      "390  2012-10-28    3.0    1.0    1.0    1.0    2.0         8.0         6.0   \n",
      "391  2012-11-08    2.0    7.0    1.0    1.0    2.0         3.0         1.0   \n",
      "392  2012-11-09    2.0    1.0    1.0    1.0    1.0         2.0         7.0   \n",
      "\n",
      "     46504_lag1  46571_lag1  46888_lag1  46670_on_46888  46670_on_46504  \\\n",
      "1           1.0         1.0         2.0             2.0             1.0   \n",
      "2           1.0         1.0         2.0             1.0             2.0   \n",
      "3           2.0         1.0         1.0             6.0             2.0   \n",
      "4           1.0         1.0         3.0             4.0             2.0   \n",
      "5           1.0         1.0         2.0             6.0             2.0   \n",
      "..          ...         ...         ...             ...             ...   \n",
      "388         5.0         3.0         3.0            24.0            12.0   \n",
      "389         1.0         1.0         2.0            30.0            10.0   \n",
      "390         1.0         1.0         3.0            16.0             8.0   \n",
      "391         1.0         1.0         2.0             6.0             3.0   \n",
      "392         1.0         1.0         2.0             2.0             2.0   \n",
      "\n",
      "     46982_on_46888  46982_on_46504  46571_on_46888  \n",
      "1               4.0             2.0             2.0  \n",
      "2               3.0             6.0             1.0  \n",
      "3              18.0             6.0             3.0  \n",
      "4               2.0             1.0             2.0  \n",
      "5              12.0             4.0             3.0  \n",
      "..              ...             ...             ...  \n",
      "388            18.0             9.0             6.0  \n",
      "389            18.0             6.0             3.0  \n",
      "390            12.0             6.0             2.0  \n",
      "391             2.0             1.0             2.0  \n",
      "392             7.0             7.0             1.0  \n",
      "\n",
      "[392 rows x 16 columns]\n"
     ]
    }
   ],
   "source": [
    "for col in ['46670', '46982', '46504', '46571', '46888']:\n",
    "    df[f'{col}_lag1'] = df[col].shift(1)\n",
    "\n",
    "# 46670  Nyctereutes procyonoides\tcommon raccoon dog  -> Rodents, Japanese Hare\n",
    "# 46982  Sus scrofa\t\t\t\t    wild boar           -> Rodents, Japanese Hare\n",
    "# 46504  Lepus brachyurus\t\t\tJapanese Hare\n",
    "# 46571  Meles anakuma\t\t\t    Japanese Badger     -> Rodents\n",
    "# 46888  Rodentia\t\n",
    "\n",
    "# 46670 Nyctereutes procyonoides\tcommon raccoon dog  -> Rodents, Japanese Hare\n",
    "df['46670_on_46888'] = df['46670_lag1'] * df['46888']\n",
    "df['46670_on_46504'] = df['46670_lag1'] * df['46504']\n",
    "\n",
    "# 46982 Sus scrofa\t\t\t\t    wild boar           -> Rodents, Japanese Hare\n",
    "df['46982_on_46888'] = df['46982_lag1'] * df['46888']\n",
    "df['46982_on_46504'] = df['46982_lag1'] * df['46504']\n",
    "\n",
    "# 46571 Meles anakuma\t\t\t    Japanese Badger     -> Rodents\n",
    "df['46571_on_46888'] = df['46571_lag1'] * df['46888']\n",
    "\n",
    "df.dropna(inplace=True)\n",
    "print(df)"
   ]
  },
  {
   "cell_type": "code",
   "execution_count": 5,
   "metadata": {},
   "outputs": [
    {
     "name": "stdout",
     "output_type": "stream",
     "text": [
      "(392, 15)\n"
     ]
    }
   ],
   "source": [
    "scaler = MinMaxScaler(feature_range=(0, 1))\n",
    "scaled_data = scaler.fit_transform(df[['46670', '46982',  '46504',  '46571',  '46888',\n",
    "                                       '46670_lag1', '46982_lag1', '46504_lag1', '46571_lag1', '46888_lag1',\n",
    "                                       '46670_on_46888', '46670_on_46504', '46982_on_46888', '46982_on_46504', '46571_on_46888']])\n",
    "print(scaled_data.shape)"
   ]
  },
  {
   "cell_type": "code",
   "execution_count": 16,
   "metadata": {},
   "outputs": [
    {
     "name": "stdout",
     "output_type": "stream",
     "text": [
      "(389, 3, 15)\n",
      "(389, 5)\n"
     ]
    }
   ],
   "source": [
    "xs, ys = [], []\n",
    "seq_length=3\n",
    "for i in range(len(scaled_data)-seq_length):\n",
    "    x = scaled_data[i:(i + seq_length)]\n",
    "    xs.append(x)\n",
    "\n",
    "    y = scaled_data[i + seq_length][:5]\n",
    "    ys.append(y)\n",
    "\n",
    "X, y = np.array(xs), np.array(ys)\n",
    "print(X.shape)\n",
    "print(y.shape)"
   ]
  },
  {
   "cell_type": "code",
   "execution_count": 17,
   "metadata": {},
   "outputs": [],
   "source": [
    "X_train, X_test, y_train, y_test = train_test_split(X, y, test_size=0.2, random_state=42)"
   ]
  },
  {
   "cell_type": "code",
   "execution_count": 18,
   "metadata": {},
   "outputs": [],
   "source": [
    "model = Sequential([\n",
    "    LSTM(50, activation='relu', input_shape=(seq_length, 15)),\n",
    "    Dense(5)\n",
    "])\n",
    "\n",
    "model.compile(optimizer='adam', loss='mean_squared_error')"
   ]
  },
  {
   "cell_type": "code",
   "execution_count": 19,
   "metadata": {},
   "outputs": [
    {
     "name": "stdout",
     "output_type": "stream",
     "text": [
      "Epoch 1/200, Training MSE: 0.0324, Test MSE: 0.0259\n",
      "Epoch 2/200, Training MSE: 0.0247, Test MSE: 0.0208\n",
      "Epoch 3/200, Training MSE: 0.0214, Test MSE: 0.0196\n",
      "Epoch 4/200, Training MSE: 0.0210, Test MSE: 0.0190\n",
      "Epoch 5/200, Training MSE: 0.0203, Test MSE: 0.0184\n",
      "Epoch 6/200, Training MSE: 0.0199, Test MSE: 0.0181\n",
      "Epoch 7/200, Training MSE: 0.0194, Test MSE: 0.0182\n",
      "Epoch 8/200, Training MSE: 0.0191, Test MSE: 0.0179\n",
      "Epoch 9/200, Training MSE: 0.0189, Test MSE: 0.0177\n",
      "Epoch 10/200, Training MSE: 0.0187, Test MSE: 0.0176\n",
      "Epoch 11/200, Training MSE: 0.0185, Test MSE: 0.0176\n",
      "Epoch 12/200, Training MSE: 0.0184, Test MSE: 0.0177\n",
      "Epoch 13/200, Training MSE: 0.0182, Test MSE: 0.0176\n",
      "Epoch 14/200, Training MSE: 0.0182, Test MSE: 0.0176\n",
      "Epoch 15/200, Training MSE: 0.0180, Test MSE: 0.0177\n",
      "Epoch 16/200, Training MSE: 0.0179, Test MSE: 0.0177\n",
      "Epoch 17/200, Training MSE: 0.0178, Test MSE: 0.0176\n",
      "Epoch 18/200, Training MSE: 0.0177, Test MSE: 0.0177\n",
      "Epoch 19/200, Training MSE: 0.0176, Test MSE: 0.0176\n",
      "Epoch 20/200, Training MSE: 0.0175, Test MSE: 0.0176\n",
      "Epoch 21/200, Training MSE: 0.0174, Test MSE: 0.0177\n",
      "Epoch 22/200, Training MSE: 0.0173, Test MSE: 0.0177\n",
      "Epoch 23/200, Training MSE: 0.0172, Test MSE: 0.0178\n",
      "Epoch 24/200, Training MSE: 0.0171, Test MSE: 0.0177\n",
      "Epoch 25/200, Training MSE: 0.0170, Test MSE: 0.0179\n",
      "Epoch 26/200, Training MSE: 0.0168, Test MSE: 0.0176\n",
      "Epoch 27/200, Training MSE: 0.0168, Test MSE: 0.0178\n",
      "Epoch 28/200, Training MSE: 0.0167, Test MSE: 0.0177\n",
      "Epoch 29/200, Training MSE: 0.0166, Test MSE: 0.0180\n",
      "Epoch 30/200, Training MSE: 0.0165, Test MSE: 0.0177\n",
      "Epoch 31/200, Training MSE: 0.0164, Test MSE: 0.0179\n",
      "Epoch 32/200, Training MSE: 0.0163, Test MSE: 0.0178\n",
      "Epoch 33/200, Training MSE: 0.0161, Test MSE: 0.0180\n",
      "Epoch 34/200, Training MSE: 0.0161, Test MSE: 0.0180\n",
      "Epoch 35/200, Training MSE: 0.0161, Test MSE: 0.0181\n",
      "Epoch 36/200, Training MSE: 0.0159, Test MSE: 0.0182\n",
      "Epoch 37/200, Training MSE: 0.0159, Test MSE: 0.0181\n",
      "Epoch 38/200, Training MSE: 0.0159, Test MSE: 0.0183\n",
      "Epoch 39/200, Training MSE: 0.0157, Test MSE: 0.0181\n",
      "Epoch 40/200, Training MSE: 0.0156, Test MSE: 0.0184\n",
      "Epoch 41/200, Training MSE: 0.0156, Test MSE: 0.0181\n",
      "Epoch 42/200, Training MSE: 0.0153, Test MSE: 0.0186\n",
      "Epoch 43/200, Training MSE: 0.0153, Test MSE: 0.0183\n",
      "Epoch 44/200, Training MSE: 0.0153, Test MSE: 0.0183\n",
      "Epoch 45/200, Training MSE: 0.0152, Test MSE: 0.0184\n",
      "Epoch 46/200, Training MSE: 0.0152, Test MSE: 0.0183\n",
      "Epoch 47/200, Training MSE: 0.0149, Test MSE: 0.0185\n",
      "Epoch 48/200, Training MSE: 0.0149, Test MSE: 0.0185\n",
      "Epoch 49/200, Training MSE: 0.0148, Test MSE: 0.0185\n",
      "Epoch 50/200, Training MSE: 0.0147, Test MSE: 0.0186\n",
      "Epoch 51/200, Training MSE: 0.0146, Test MSE: 0.0186\n",
      "Epoch 52/200, Training MSE: 0.0145, Test MSE: 0.0187\n",
      "Epoch 53/200, Training MSE: 0.0145, Test MSE: 0.0187\n",
      "Epoch 54/200, Training MSE: 0.0144, Test MSE: 0.0187\n",
      "Epoch 55/200, Training MSE: 0.0143, Test MSE: 0.0188\n",
      "Epoch 56/200, Training MSE: 0.0141, Test MSE: 0.0187\n",
      "Epoch 57/200, Training MSE: 0.0141, Test MSE: 0.0188\n",
      "Epoch 58/200, Training MSE: 0.0140, Test MSE: 0.0189\n",
      "Epoch 59/200, Training MSE: 0.0139, Test MSE: 0.0188\n",
      "Epoch 60/200, Training MSE: 0.0139, Test MSE: 0.0192\n",
      "Epoch 61/200, Training MSE: 0.0138, Test MSE: 0.0188\n",
      "Epoch 62/200, Training MSE: 0.0137, Test MSE: 0.0191\n",
      "Epoch 63/200, Training MSE: 0.0136, Test MSE: 0.0190\n",
      "Epoch 64/200, Training MSE: 0.0136, Test MSE: 0.0189\n",
      "Epoch 65/200, Training MSE: 0.0134, Test MSE: 0.0194\n",
      "Epoch 66/200, Training MSE: 0.0135, Test MSE: 0.0191\n",
      "Epoch 67/200, Training MSE: 0.0132, Test MSE: 0.0193\n",
      "Epoch 68/200, Training MSE: 0.0132, Test MSE: 0.0192\n",
      "Epoch 69/200, Training MSE: 0.0133, Test MSE: 0.0193\n",
      "Epoch 70/200, Training MSE: 0.0131, Test MSE: 0.0194\n",
      "Epoch 71/200, Training MSE: 0.0130, Test MSE: 0.0193\n",
      "Epoch 72/200, Training MSE: 0.0129, Test MSE: 0.0196\n",
      "Epoch 73/200, Training MSE: 0.0128, Test MSE: 0.0192\n",
      "Epoch 74/200, Training MSE: 0.0129, Test MSE: 0.0199\n",
      "Epoch 75/200, Training MSE: 0.0128, Test MSE: 0.0194\n",
      "Epoch 76/200, Training MSE: 0.0127, Test MSE: 0.0197\n",
      "Epoch 77/200, Training MSE: 0.0126, Test MSE: 0.0198\n",
      "Epoch 78/200, Training MSE: 0.0124, Test MSE: 0.0197\n",
      "Epoch 79/200, Training MSE: 0.0123, Test MSE: 0.0201\n",
      "Epoch 80/200, Training MSE: 0.0124, Test MSE: 0.0200\n",
      "Epoch 81/200, Training MSE: 0.0123, Test MSE: 0.0200\n",
      "Epoch 82/200, Training MSE: 0.0121, Test MSE: 0.0204\n",
      "Epoch 83/200, Training MSE: 0.0122, Test MSE: 0.0200\n",
      "Epoch 84/200, Training MSE: 0.0120, Test MSE: 0.0204\n",
      "Epoch 85/200, Training MSE: 0.0119, Test MSE: 0.0204\n",
      "Epoch 86/200, Training MSE: 0.0119, Test MSE: 0.0207\n",
      "Epoch 87/200, Training MSE: 0.0120, Test MSE: 0.0201\n",
      "Epoch 88/200, Training MSE: 0.0118, Test MSE: 0.0212\n",
      "Epoch 89/200, Training MSE: 0.0117, Test MSE: 0.0203\n",
      "Epoch 90/200, Training MSE: 0.0116, Test MSE: 0.0206\n",
      "Epoch 91/200, Training MSE: 0.0115, Test MSE: 0.0211\n",
      "Epoch 92/200, Training MSE: 0.0115, Test MSE: 0.0204\n",
      "Epoch 93/200, Training MSE: 0.0114, Test MSE: 0.0223\n",
      "Epoch 94/200, Training MSE: 0.0117, Test MSE: 0.0206\n",
      "Epoch 95/200, Training MSE: 0.0115, Test MSE: 0.0208\n",
      "Epoch 96/200, Training MSE: 0.0114, Test MSE: 0.0211\n",
      "Epoch 97/200, Training MSE: 0.0113, Test MSE: 0.0215\n",
      "Epoch 98/200, Training MSE: 0.0112, Test MSE: 0.0208\n",
      "Epoch 99/200, Training MSE: 0.0112, Test MSE: 0.0217\n",
      "Epoch 100/200, Training MSE: 0.0110, Test MSE: 0.0215\n",
      "Epoch 101/200, Training MSE: 0.0111, Test MSE: 0.0209\n",
      "Epoch 102/200, Training MSE: 0.0110, Test MSE: 0.0220\n",
      "Epoch 103/200, Training MSE: 0.0109, Test MSE: 0.0212\n",
      "Epoch 104/200, Training MSE: 0.0108, Test MSE: 0.0218\n",
      "Epoch 105/200, Training MSE: 0.0108, Test MSE: 0.0225\n",
      "Epoch 106/200, Training MSE: 0.0108, Test MSE: 0.0214\n",
      "Epoch 107/200, Training MSE: 0.0106, Test MSE: 0.0221\n",
      "Epoch 108/200, Training MSE: 0.0106, Test MSE: 0.0217\n",
      "Epoch 109/200, Training MSE: 0.0105, Test MSE: 0.0226\n",
      "Epoch 110/200, Training MSE: 0.0105, Test MSE: 0.0217\n",
      "Epoch 111/200, Training MSE: 0.0105, Test MSE: 0.0218\n",
      "Epoch 112/200, Training MSE: 0.0104, Test MSE: 0.0223\n",
      "Epoch 113/200, Training MSE: 0.0103, Test MSE: 0.0224\n",
      "Epoch 114/200, Training MSE: 0.0104, Test MSE: 0.0218\n",
      "Epoch 115/200, Training MSE: 0.0103, Test MSE: 0.0234\n",
      "Epoch 116/200, Training MSE: 0.0105, Test MSE: 0.0225\n",
      "Epoch 117/200, Training MSE: 0.0103, Test MSE: 0.0219\n",
      "Epoch 118/200, Training MSE: 0.0103, Test MSE: 0.0237\n",
      "Epoch 119/200, Training MSE: 0.0102, Test MSE: 0.0224\n",
      "Epoch 120/200, Training MSE: 0.0100, Test MSE: 0.0223\n",
      "Epoch 121/200, Training MSE: 0.0100, Test MSE: 0.0229\n",
      "Epoch 122/200, Training MSE: 0.0099, Test MSE: 0.0228\n",
      "Epoch 123/200, Training MSE: 0.0100, Test MSE: 0.0224\n",
      "Epoch 124/200, Training MSE: 0.0099, Test MSE: 0.0231\n",
      "Epoch 125/200, Training MSE: 0.0099, Test MSE: 0.0231\n",
      "Epoch 126/200, Training MSE: 0.0098, Test MSE: 0.0228\n",
      "Epoch 127/200, Training MSE: 0.0097, Test MSE: 0.0231\n",
      "Epoch 128/200, Training MSE: 0.0097, Test MSE: 0.0234\n",
      "Epoch 129/200, Training MSE: 0.0097, Test MSE: 0.0239\n",
      "Epoch 130/200, Training MSE: 0.0097, Test MSE: 0.0232\n",
      "Epoch 131/200, Training MSE: 0.0095, Test MSE: 0.0235\n",
      "Epoch 132/200, Training MSE: 0.0096, Test MSE: 0.0243\n",
      "Epoch 133/200, Training MSE: 0.0095, Test MSE: 0.0233\n",
      "Epoch 134/200, Training MSE: 0.0095, Test MSE: 0.0243\n",
      "Epoch 135/200, Training MSE: 0.0096, Test MSE: 0.0234\n",
      "Epoch 136/200, Training MSE: 0.0094, Test MSE: 0.0245\n",
      "Epoch 137/200, Training MSE: 0.0092, Test MSE: 0.0240\n",
      "Epoch 138/200, Training MSE: 0.0092, Test MSE: 0.0239\n",
      "Epoch 139/200, Training MSE: 0.0093, Test MSE: 0.0248\n",
      "Epoch 140/200, Training MSE: 0.0093, Test MSE: 0.0248\n",
      "Epoch 141/200, Training MSE: 0.0092, Test MSE: 0.0248\n",
      "Epoch 142/200, Training MSE: 0.0092, Test MSE: 0.0249\n",
      "Epoch 143/200, Training MSE: 0.0091, Test MSE: 0.0246\n",
      "Epoch 144/200, Training MSE: 0.0091, Test MSE: 0.0249\n",
      "Epoch 145/200, Training MSE: 0.0092, Test MSE: 0.0260\n",
      "Epoch 146/200, Training MSE: 0.0090, Test MSE: 0.0248\n",
      "Epoch 147/200, Training MSE: 0.0091, Test MSE: 0.0247\n",
      "Epoch 148/200, Training MSE: 0.0090, Test MSE: 0.0249\n",
      "Epoch 149/200, Training MSE: 0.0089, Test MSE: 0.0250\n",
      "Epoch 150/200, Training MSE: 0.0089, Test MSE: 0.0250\n",
      "Epoch 151/200, Training MSE: 0.0088, Test MSE: 0.0260\n",
      "Epoch 152/200, Training MSE: 0.0089, Test MSE: 0.0247\n",
      "Epoch 153/200, Training MSE: 0.0087, Test MSE: 0.0245\n",
      "Epoch 154/200, Training MSE: 0.0087, Test MSE: 0.0260\n",
      "Epoch 155/200, Training MSE: 0.0087, Test MSE: 0.0269\n",
      "Epoch 156/200, Training MSE: 0.0087, Test MSE: 0.0254\n",
      "Epoch 157/200, Training MSE: 0.0086, Test MSE: 0.0252\n",
      "Epoch 158/200, Training MSE: 0.0085, Test MSE: 0.0259\n",
      "Epoch 159/200, Training MSE: 0.0085, Test MSE: 0.0265\n",
      "Epoch 160/200, Training MSE: 0.0086, Test MSE: 0.0265\n",
      "Epoch 161/200, Training MSE: 0.0086, Test MSE: 0.0264\n",
      "Epoch 162/200, Training MSE: 0.0083, Test MSE: 0.0259\n",
      "Epoch 163/200, Training MSE: 0.0083, Test MSE: 0.0259\n",
      "Epoch 164/200, Training MSE: 0.0084, Test MSE: 0.0268\n",
      "Epoch 165/200, Training MSE: 0.0083, Test MSE: 0.0266\n",
      "Epoch 166/200, Training MSE: 0.0083, Test MSE: 0.0269\n",
      "Epoch 167/200, Training MSE: 0.0083, Test MSE: 0.0260\n",
      "Epoch 168/200, Training MSE: 0.0081, Test MSE: 0.0260\n",
      "Epoch 169/200, Training MSE: 0.0081, Test MSE: 0.0268\n",
      "Epoch 170/200, Training MSE: 0.0081, Test MSE: 0.0272\n",
      "Epoch 171/200, Training MSE: 0.0082, Test MSE: 0.0280\n",
      "Epoch 172/200, Training MSE: 0.0082, Test MSE: 0.0271\n",
      "Epoch 173/200, Training MSE: 0.0082, Test MSE: 0.0270\n",
      "Epoch 174/200, Training MSE: 0.0081, Test MSE: 0.0260\n",
      "Epoch 175/200, Training MSE: 0.0080, Test MSE: 0.0267\n",
      "Epoch 176/200, Training MSE: 0.0080, Test MSE: 0.0270\n",
      "Epoch 177/200, Training MSE: 0.0080, Test MSE: 0.0273\n",
      "Epoch 178/200, Training MSE: 0.0079, Test MSE: 0.0279\n",
      "Epoch 179/200, Training MSE: 0.0079, Test MSE: 0.0272\n",
      "Epoch 180/200, Training MSE: 0.0079, Test MSE: 0.0272\n",
      "Epoch 181/200, Training MSE: 0.0079, Test MSE: 0.0276\n",
      "Epoch 182/200, Training MSE: 0.0077, Test MSE: 0.0268\n",
      "Epoch 183/200, Training MSE: 0.0078, Test MSE: 0.0271\n",
      "Epoch 184/200, Training MSE: 0.0077, Test MSE: 0.0274\n",
      "Epoch 185/200, Training MSE: 0.0077, Test MSE: 0.0280\n",
      "Epoch 186/200, Training MSE: 0.0076, Test MSE: 0.0271\n",
      "Epoch 187/200, Training MSE: 0.0076, Test MSE: 0.0279\n",
      "Epoch 188/200, Training MSE: 0.0076, Test MSE: 0.0286\n",
      "Epoch 189/200, Training MSE: 0.0076, Test MSE: 0.0290\n",
      "Epoch 190/200, Training MSE: 0.0076, Test MSE: 0.0282\n",
      "Epoch 191/200, Training MSE: 0.0076, Test MSE: 0.0279\n",
      "Epoch 192/200, Training MSE: 0.0078, Test MSE: 0.0280\n",
      "Epoch 193/200, Training MSE: 0.0074, Test MSE: 0.0280\n",
      "Epoch 194/200, Training MSE: 0.0074, Test MSE: 0.0277\n",
      "Epoch 195/200, Training MSE: 0.0077, Test MSE: 0.0288\n",
      "Epoch 196/200, Training MSE: 0.0076, Test MSE: 0.0288\n",
      "Epoch 197/200, Training MSE: 0.0077, Test MSE: 0.0297\n",
      "Epoch 198/200, Training MSE: 0.0075, Test MSE: 0.0282\n",
      "Epoch 199/200, Training MSE: 0.0073, Test MSE: 0.0279\n",
      "Epoch 200/200, Training MSE: 0.0073, Test MSE: 0.0278\n"
     ]
    },
    {
     "data": {
      "image/png": "[encoded data removed]",
      "text/plain": [
       "<Figure size 1000x500 with 1 Axes>"
      ]
     },
     "metadata": {},
     "output_type": "display_data"
    },
    {
     "name": "stdout",
     "output_type": "stream",
     "text": [
      "Final Test MSE: 0.027760304510593414\n"
     ]
    }
   ],
   "source": [
    "epochs = 200\n",
    "train_losses = []\n",
    "test_losses = []\n",
    "\n",
    "for epoch in range(epochs):\n",
    "    history = model.fit(X_train, y_train, validation_data=(X_test, y_test), epochs=1, batch_size=32, verbose=0)\n",
    "    \n",
    "    # Access losses directly from history object\n",
    "    train_mse = history.history['loss'][-1]\n",
    "    test_mse = history.history['val_loss'][-1]\n",
    "    \n",
    "    train_losses.append(train_mse)\n",
    "    test_losses.append(test_mse)\n",
    "    \n",
    "    print(f'Epoch {epoch+1}/{epochs}, Training MSE: {train_mse:.4f}, Test MSE: {test_mse:.4f}')\n",
    "\n",
    "# Plotting training and testing loss over epochs\n",
    "plt.figure(figsize=(10, 5))\n",
    "plt.plot(range(1, epochs+1), train_losses, label='Training Loss')\n",
    "plt.plot(range(1, epochs+1), test_losses, label='Test Loss')\n",
    "plt.xlabel('Epoch')\n",
    "plt.ylabel('MSE')\n",
    "plt.title('Training and Test Loss Over Epochs')\n",
    "plt.legend()\n",
    "plt.show()\n",
    "\n",
    "# Final evaluation\n",
    "final_mse_test = test_losses[-1]\n",
    "print(f'Final Test MSE: {final_mse_test}')"
   ]
  },
  {
   "cell_type": "code",
   "execution_count": 20,
   "metadata": {},
   "outputs": [
    {
     "name": "stdout",
     "output_type": "stream",
     "text": [
      "            DATE    7058   8572  39601   8901   7730\n",
      "0     1963-11-14  1531.0  422.0   19.0  164.0    2.0\n",
      "1     1963-12-10   437.0   94.0   17.0   97.0    1.0\n",
      "2     1964-10-25   189.0   66.0   36.0   23.0  761.0\n",
      "3     1964-10-29   370.0  116.0   83.0  196.0  561.0\n",
      "4     1964-12-04   101.0    5.0   21.0  233.0    2.0\n",
      "...          ...     ...    ...    ...    ...    ...\n",
      "1510  2008-10-28   255.0   16.0  185.0   44.0   15.0\n",
      "1511  2008-10-30   741.0  735.0  252.0   87.0  382.0\n",
      "1512  2008-11-03   287.0  291.0   14.0   16.0    1.0\n",
      "1513  2008-11-04   732.0  468.0   32.0  186.0    1.0\n",
      "1514  2008-11-08    78.0    3.0  471.0    1.0   14.0\n",
      "\n",
      "[1515 rows x 6 columns]\n"
     ]
    }
   ],
   "source": [
    "df = pd.read_csv('../../Datasets/study_213/top_5_213.csv', usecols=['DATE', '7058', '8572', '39601', '8901', '7730'])\n",
    "print(df)"
   ]
  },
  {
   "cell_type": "code",
   "execution_count": null,
   "metadata": {},
   "outputs": [],
   "source": [
    "for col in ['7058', '8572', '39601', '8901', '7730']:\n",
    "    df[f'{col}_lag1'] = df[col].shift(1)\n",
    "\n",
    "\"\"\"\n",
    "7058 ['Merluccius bilinearis']  Silver hake             -> Silver hake, Spiny dogfish, Longfin inshore squid, Red hake, American butterfish\n",
    "8572 ['Squalus acanthias']      Spiny dogfish           -> Silver hake, Spiny dogfish, Longfin inshore squid, Red hake, American butterfish\n",
    "39601 ['Doryteuthis pealeii']   Longfin inshore squid   -> Silver hake, Longfin inshore squid\n",
    "8901 ['Urophycis chuss']        Red hake                -> Silver hake, Longfin inshore squid, Red hake, American butterfish\n",
    "7730 ['Peprilus triacanthus']   American butterfish     -> Longfin inshore squid\n",
    "\"\"\"\n",
    "\n",
    "# 7058 ['Merluccius bilinearis']  Silver hake -> Silver hake, Spiny dogfish, Longfin inshore squid, Red hake, American butterfish\n",
    "df['7058_on_7058'] = df['7058_lag1'] * df['7058']\n",
    "df['7058_on_8572'] = df['7058_lag1'] * df['8572']\n",
    "df['7058_on_39601'] = df['7058_lag1'] * df['39601']\n",
    "df['7058_on_8901'] = df['7058_lag1'] * df['8901']\n",
    "df['7058_on_7730'] = df['7058_lag1'] * df['7730']\n",
    "\n",
    "# 8572 ['Squalus acanthias']  Spiny dogfish -> Silver hake, Spiny dogfish, Longfin inshore squid, Red hake, American butterfish\n",
    "df['8572_on_7058'] = df['8572_lag1'] * df['7058']\n",
    "df['8572_on_8572'] = df['8572_lag1'] * df['8572']\n",
    "df['8572_on_39601'] = df['8572_lag1'] * df['39601']\n",
    "df['8572_on_8901'] = df['8572_lag1'] * df['8901']\n",
    "df['8572_on_7730'] = df['8572_lag1'] * df['7730']\n",
    "\n",
    "# 39601 ['Doryteuthis pealeii']  Longfin inshore squid -> Silver hake, Longfin inshore squid\n",
    "df['39601_on_7058'] = df['39601_lag1'] * df['7058']\n",
    "df['39601_on_39601'] = df['39601_lag1'] * df['39601']\n",
    "\n",
    "# 8901 ['Urophycis chuss']  Red hake -> Silver hake, Longfin inshore squid, Red hake, American butterfish\n",
    "df['8901_on_7058'] = df['8901_lag1'] * df['7058']\n",
    "df['8901_on_39601'] = df['8901_lag1'] * df['39601']\n",
    "df['8901_on_8901'] = df['8901_lag1'] * df['8901']\n",
    "df['8901_on_7730'] = df['8901_lag1'] * df['7730']\n",
    "\n",
    "# 7730 ['Peprilus triacanthus']  American butterfish -> Longfin inshore squid\n",
    "df['7730_on_39601'] = df['7730_lag1'] * df['39601']\n",
    "\n",
    "\n",
    "df.dropna(inplace=True)\n",
    "print(df)"
   ]
  },
  {
   "cell_type": "code",
   "execution_count": 22,
   "metadata": {},
   "outputs": [
    {
     "name": "stdout",
     "output_type": "stream",
     "text": [
      "(1514, 27)\n"
     ]
    }
   ],
   "source": [
    "scaler = MinMaxScaler(feature_range=(0, 1))\n",
    "scaled_data = scaler.fit_transform(df[['7058', '8572',  '39601',  '8901',  '7730',\n",
    "                                       '7058_lag1', '8572_lag1', '39601_lag1', '8901_lag1', '7730_lag1',\n",
    "                                       '7058_on_7058', '7058_on_8572', '7058_on_39601', '7058_on_8901', '7058_on_7730',\n",
    "                                       '8572_on_7058', '8572_on_8572', '8572_on_39601', '8572_on_8901', '8572_on_7730',\n",
    "                                       '39601_on_7058', '39601_on_39601', '8901_on_7058', '8901_on_39601', '8901_on_8901',\n",
    "                                       '8901_on_7730', '7730_on_39601']])\n",
    "print(scaled_data.shape)"
   ]
  },
  {
   "cell_type": "code",
   "execution_count": 23,
   "metadata": {},
   "outputs": [
    {
     "name": "stdout",
     "output_type": "stream",
     "text": [
      "(1511, 3, 27)\n",
      "(1511, 5)\n"
     ]
    }
   ],
   "source": [
    "xs, ys = [], []\n",
    "seq_length=3\n",
    "for i in range(len(scaled_data)-seq_length):\n",
    "    x = scaled_data[i:(i + seq_length)]\n",
    "    xs.append(x)\n",
    "\n",
    "    y = scaled_data[i + seq_length][:5]\n",
    "    ys.append(y)\n",
    "\n",
    "X, y = np.array(xs), np.array(ys)\n",
    "print(X.shape)\n",
    "print(y.shape)"
   ]
  },
  {
   "cell_type": "code",
   "execution_count": 24,
   "metadata": {},
   "outputs": [],
   "source": [
    "X_train, X_test, y_train, y_test = train_test_split(X, y, test_size=0.2, random_state=42)"
   ]
  },
  {
   "cell_type": "code",
   "execution_count": 28,
   "metadata": {},
   "outputs": [],
   "source": [
    "model = Sequential([\n",
    "    LSTM(50, activation='relu', input_shape=(seq_length, 27)),\n",
    "    Dense(5)\n",
    "])\n",
    "\n",
    "model.compile(optimizer='adam', loss='mean_squared_error')"
   ]
  },
  {
   "cell_type": "code",
   "execution_count": 29,
   "metadata": {},
   "outputs": [
    {
     "ename": "ValueError",
     "evalue": "Dimensions must be equal, but are 5 and 2 for '{{node compile_loss/mean_squared_error/sub}} = Sub[T=DT_FLOAT](data_1, sequential_5_1/dense_5_1/Add)' with input shapes: [?,5], [?,2].",
     "output_type": "error",
     "traceback": [
      "\u001b[0;31m---------------------------------------------------------------------------\u001b[0m",
      "\u001b[0;31mValueError\u001b[0m                                Traceback (most recent call last)",
      "Cell \u001b[0;32mIn[29], line 6\u001b[0m\n\u001b[1;32m      3\u001b[0m test_losses \u001b[38;5;241m=\u001b[39m []\n\u001b[1;32m      5\u001b[0m \u001b[38;5;28;01mfor\u001b[39;00m epoch \u001b[38;5;129;01min\u001b[39;00m \u001b[38;5;28mrange\u001b[39m(epochs):\n\u001b[0;32m----> 6\u001b[0m     history \u001b[38;5;241m=\u001b[39m \u001b[43mmodel\u001b[49m\u001b[38;5;241;43m.\u001b[39;49m\u001b[43mfit\u001b[49m\u001b[43m(\u001b[49m\u001b[43mX_train\u001b[49m\u001b[43m,\u001b[49m\u001b[43m \u001b[49m\u001b[43my_train\u001b[49m\u001b[43m,\u001b[49m\u001b[43m \u001b[49m\u001b[43mvalidation_data\u001b[49m\u001b[38;5;241;43m=\u001b[39;49m\u001b[43m(\u001b[49m\u001b[43mX_test\u001b[49m\u001b[43m,\u001b[49m\u001b[43m \u001b[49m\u001b[43my_test\u001b[49m\u001b[43m)\u001b[49m\u001b[43m,\u001b[49m\u001b[43m \u001b[49m\u001b[43mepochs\u001b[49m\u001b[38;5;241;43m=\u001b[39;49m\u001b[38;5;241;43m1\u001b[39;49m\u001b[43m,\u001b[49m\u001b[43m \u001b[49m\u001b[43mbatch_size\u001b[49m\u001b[38;5;241;43m=\u001b[39;49m\u001b[38;5;241;43m32\u001b[39;49m\u001b[43m,\u001b[49m\u001b[43m \u001b[49m\u001b[43mverbose\u001b[49m\u001b[38;5;241;43m=\u001b[39;49m\u001b[38;5;241;43m0\u001b[39;49m\u001b[43m)\u001b[49m\n\u001b[1;32m      8\u001b[0m     \u001b[38;5;66;03m# Access losses directly from history object\u001b[39;00m\n\u001b[1;32m      9\u001b[0m     train_mse \u001b[38;5;241m=\u001b[39m history\u001b[38;5;241m.\u001b[39mhistory[\u001b[38;5;124m'\u001b[39m\u001b[38;5;124mloss\u001b[39m\u001b[38;5;124m'\u001b[39m][\u001b[38;5;241m-\u001b[39m\u001b[38;5;241m1\u001b[39m]\n",
      "File \u001b[0;32m/Library/Frameworks/Python.framework/Versions/3.12/lib/python3.12/site-packages/keras/src/utils/traceback_utils.py:122\u001b[0m, in \u001b[0;36mfilter_traceback.<locals>.error_handler\u001b[0;34m(*args, **kwargs)\u001b[0m\n\u001b[1;32m    119\u001b[0m     filtered_tb \u001b[38;5;241m=\u001b[39m _process_traceback_frames(e\u001b[38;5;241m.\u001b[39m__traceback__)\n\u001b[1;32m    120\u001b[0m     \u001b[38;5;66;03m# To get the full stack trace, call:\u001b[39;00m\n\u001b[1;32m    121\u001b[0m     \u001b[38;5;66;03m# `keras.config.disable_traceback_filtering()`\u001b[39;00m\n\u001b[0;32m--> 122\u001b[0m     \u001b[38;5;28;01mraise\u001b[39;00m e\u001b[38;5;241m.\u001b[39mwith_traceback(filtered_tb) \u001b[38;5;28;01mfrom\u001b[39;00m \u001b[38;5;28;01mNone\u001b[39;00m\n\u001b[1;32m    123\u001b[0m \u001b[38;5;28;01mfinally\u001b[39;00m:\n\u001b[1;32m    124\u001b[0m     \u001b[38;5;28;01mdel\u001b[39;00m filtered_tb\n",
      "File \u001b[0;32m/Library/Frameworks/Python.framework/Versions/3.12/lib/python3.12/site-packages/keras/src/losses/losses.py:1154\u001b[0m, in \u001b[0;36mmean_squared_error\u001b[0;34m(y_true, y_pred)\u001b[0m\n\u001b[1;32m   1152\u001b[0m y_true \u001b[38;5;241m=\u001b[39m ops\u001b[38;5;241m.\u001b[39mconvert_to_tensor(y_true, dtype\u001b[38;5;241m=\u001b[39my_pred\u001b[38;5;241m.\u001b[39mdtype)\n\u001b[1;32m   1153\u001b[0m y_true, y_pred \u001b[38;5;241m=\u001b[39m squeeze_or_expand_to_same_rank(y_true, y_pred)\n\u001b[0;32m-> 1154\u001b[0m \u001b[38;5;28;01mreturn\u001b[39;00m ops\u001b[38;5;241m.\u001b[39mmean(ops\u001b[38;5;241m.\u001b[39msquare(\u001b[43my_true\u001b[49m\u001b[43m \u001b[49m\u001b[38;5;241;43m-\u001b[39;49m\u001b[43m \u001b[49m\u001b[43my_pred\u001b[49m), axis\u001b[38;5;241m=\u001b[39m\u001b[38;5;241m-\u001b[39m\u001b[38;5;241m1\u001b[39m)\n",
      "\u001b[0;31mValueError\u001b[0m: Dimensions must be equal, but are 5 and 2 for '{{node compile_loss/mean_squared_error/sub}} = Sub[T=DT_FLOAT](data_1, sequential_5_1/dense_5_1/Add)' with input shapes: [?,5], [?,2]."
     ]
    }
   ],
   "source": [
    "epochs = 200\n",
    "train_losses = []\n",
    "test_losses = []\n",
    "\n",
    "for epoch in range(epochs):\n",
    "    history = model.fit(X_train, y_train, validation_data=(X_test, y_test), epochs=1, batch_size=32, verbose=0)\n",
    "    \n",
    "    # Access losses directly from history object\n",
    "    train_mse = history.history['loss'][-1]\n",
    "    test_mse = history.history['val_loss'][-1]\n",
    "    \n",
    "    train_losses.append(train_mse)\n",
    "    test_losses.append(test_mse)\n",
    "    \n",
    "    print(f'Epoch {epoch+1}/{epochs}, Training MSE: {train_mse:.4f}, Test MSE: {test_mse:.4f}')\n",
    "\n",
    "# Plotting training and testing loss over epochs\n",
    "plt.figure(figsize=(10, 5))\n",
    "plt.plot(range(1, epochs+1), train_losses, label='Training Loss')\n",
    "plt.plot(range(1, epochs+1), test_losses, label='Test Loss')\n",
    "plt.xlabel('Epoch')\n",
    "plt.ylabel('MSE')\n",
    "plt.title('Training and Test Loss Over Epochs')\n",
    "plt.legend()\n",
    "plt.show()\n",
    "\n",
    "# Final evaluation\n",
    "final_mse_test = test_losses[-1]\n",
    "print(f'Final Test MSE: {final_mse_test}')"
   ]
  }
 ],
 "metadata": {
  "kernelspec": {
   "display_name": "Python 3",
   "language": "python",
   "name": "python3"
  },
  "language_info": {
   "codemirror_mode": {
    "name": "ipython",
    "version": 3
   },
   "file_extension": ".py",
   "mimetype": "text/x-python",
   "name": "python",
   "nbconvert_exporter": "python",
   "pygments_lexer": "ipython3",
   "version": "3.12.2"
  }
 },
 "nbformat": 4,
 "nbformat_minor": 2
}
